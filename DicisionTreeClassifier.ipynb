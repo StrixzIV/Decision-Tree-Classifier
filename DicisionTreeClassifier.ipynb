{
  "cells": [
    {
      "cell_type": "markdown",
      "metadata": {
        "colab_type": "text",
        "id": "view-in-github"
      },
      "source": [
        "<a href=\"https://colab.research.google.com/github/StrixzIV/Decision-Tree-Classifier/blob/main/DicisionTreeClassifier.ipynb\" target=\"_parent\"><img src=\"https://colab.research.google.com/assets/colab-badge.svg\" alt=\"Open In Colab\"/></a>"
      ]
    },
    {
      "cell_type": "markdown",
      "metadata": {
        "id": "ChECfR3AuqVD"
      },
      "source": [
        "# ตัวอย่างของอัลกอริทึม Decision Tree Classifier\n",
        "\n",
        "By. xcact - https://www.youtube.com/channel/UCGNe0bKHgqHd4aiH2yPKIHA"
      ]
    },
    {
      "cell_type": "markdown",
      "metadata": {
        "id": "IPbRSGC-vMRq"
      },
      "source": [
        "## โหลดไฟล์ข้อมูล CSV(รันทุกครั้งเมื่อเรียกใช้หรือ Reset runtime ใหม่)"
      ]
    },
    {
      "cell_type": "code",
      "execution_count": null,
      "metadata": {
        "colab": {
          "base_uri": "https://localhost:8080/"
        },
        "id": "e2TGdTuJvYRH",
        "outputId": "23e7bd61-693d-435d-871f-d8637d1fa243"
      },
      "outputs": [],
      "source": [
        "!wget https://github.com/StrixzIV/Decision-Tree-Classifier/raw/main/music.csv"
      ]
    },
    {
      "cell_type": "markdown",
      "metadata": {
        "id": "ZtsheAuvvEmN"
      },
      "source": [
        "## Import ไลบารี่ที่ต้องใช้"
      ]
    },
    {
      "cell_type": "code",
      "execution_count": null,
      "metadata": {
        "id": "zPYnvv86uel1"
      },
      "outputs": [],
      "source": [
        "import joblib\n",
        "import pandas as pd\n",
        "from sklearn import tree\n",
        "from sklearn.tree import DecisionTreeClassifier"
      ]
    },
    {
      "cell_type": "markdown",
      "metadata": {
        "id": "kDfwbmSmxTXC"
      },
      "source": [
        "## Load ไฟล์ CSV และกำหนด Feature และ Label"
      ]
    },
    {
      "cell_type": "code",
      "execution_count": null,
      "metadata": {
        "colab": {
          "base_uri": "https://localhost:8080/",
          "height": 603
        },
        "id": "VFTeYUMIxhMr",
        "outputId": "ac835312-daf2-456a-f5de-e243fbe9798b"
      },
      "outputs": [],
      "source": [
        "music_data = pd.read_csv('music.csv')\n",
        "\n",
        "# กำหนด Feature(ข้อมูลลักษณะของแต่ละ Label)\n",
        "x = music_data.drop(columns = ['genre'])\n",
        "\n",
        "# กำหนด Label(กำหนดลักษณะของผลลัพธ์จากข้อมูล Feature)\n",
        "y = music_data['genre']\n",
        "\n",
        "music_data"
      ]
    },
    {
      "cell_type": "markdown",
      "metadata": {
        "id": "ygO3VZYmy4pn"
      },
      "source": [
        "## Train model จากข้อมูล Feature และ Column ที่กำหนด"
      ]
    },
    {
      "cell_type": "code",
      "execution_count": null,
      "metadata": {
        "colab": {
          "base_uri": "https://localhost:8080/"
        },
        "id": "Ld8t3ujbzEwW",
        "outputId": "4c156a9f-f319-4ec6-d70e-a13e4a75011e"
      },
      "outputs": [],
      "source": [
        "model = DecisionTreeClassifier()\n",
        "model.fit(x, y)"
      ]
    },
    {
      "cell_type": "markdown",
      "metadata": {
        "id": "DUDKsLCQzV25"
      },
      "source": [
        "## เซฟไฟล์ Model ที่ทำการ Train เสร็จแล้ว"
      ]
    },
    {
      "cell_type": "code",
      "execution_count": null,
      "metadata": {
        "colab": {
          "base_uri": "https://localhost:8080/"
        },
        "id": "UzUHVbbnzefF",
        "outputId": "af09231e-0596-45e0-ba0c-55c8b1a8ad57"
      },
      "outputs": [],
      "source": [
        "filename = 'model'\n",
        "joblib.dump(model, f'{filename}.joblib')"
      ]
    },
    {
      "cell_type": "markdown",
      "metadata": {
        "id": "2zvbgkI3z2oK"
      },
      "source": [
        "## โหลดไฟล์ Model ที่เซฟไว้"
      ]
    },
    {
      "cell_type": "code",
      "execution_count": null,
      "metadata": {
        "id": "kKAoPRVZ0A0l"
      },
      "outputs": [],
      "source": [
        "model = joblib.load(f'{filename}.joblib')"
      ]
    },
    {
      "cell_type": "markdown",
      "metadata": {
        "id": "VKc2NoOe0KN6"
      },
      "source": [
        "## ใช้ข้อมูลที่ Train เก็บไว้ใน Model มาทำการทำนายผล"
      ]
    },
    {
      "cell_type": "code",
      "execution_count": null,
      "metadata": {
        "colab": {
          "base_uri": "https://localhost:8080/"
        },
        "id": "ViRumMpf0XTS",
        "outputId": "7c71f602-a33d-4be3-b106-f4780b57bf84"
      },
      "outputs": [],
      "source": [
        "model.predict([[17, 1]])"
      ]
    }
  ],
  "metadata": {
    "colab": {
      "authorship_tag": "ABX9TyPf2OB9TvjmmAVvFT7hhAQF",
      "include_colab_link": true,
      "name": "DicisionTreeClassifier.ipynb",
      "provenance": []
    },
    "kernelspec": {
      "display_name": "Python 3",
      "name": "python3"
    },
    "language_info": {
      "name": "python"
    }
  },
  "nbformat": 4,
  "nbformat_minor": 0
}
