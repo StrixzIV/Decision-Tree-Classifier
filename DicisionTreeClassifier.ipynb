{
  "nbformat": 4,
  "nbformat_minor": 0,
  "metadata": {
    "colab": {
      "name": "DicisionTreeClassifier.ipynb",
      "provenance": [],
      "authorship_tag": "ABX9TyPf2OB9TvjmmAVvFT7hhAQF",
      "include_colab_link": true
    },
    "kernelspec": {
      "name": "python3",
      "display_name": "Python 3"
    },
    "language_info": {
      "name": "python"
    }
  },
  "cells": [
    {
      "cell_type": "markdown",
      "metadata": {
        "id": "view-in-github",
        "colab_type": "text"
      },
      "source": [
        "<a href=\"https://colab.research.google.com/github/StrixzIV/Decision-Tree-Classifier/blob/main/DicisionTreeClassifier.ipynb\" target=\"_parent\"><img src=\"https://colab.research.google.com/assets/colab-badge.svg\" alt=\"Open In Colab\"/></a>"
      ]
    },
    {
      "cell_type": "markdown",
      "metadata": {
        "id": "ChECfR3AuqVD"
      },
      "source": [
        "# ตัวอย่างของอัลกอริทึม Decision Tree Classifier\n",
        "\n",
        "By. xcact - https://www.youtube.com/channel/UCGNe0bKHgqHd4aiH2yPKIHA"
      ]
    },
    {
      "cell_type": "markdown",
      "metadata": {
        "id": "IPbRSGC-vMRq"
      },
      "source": [
        "## โหลดไฟล์ข้อมูล CSV(รันทุกครั้งเมื่อเรียกใช้หรือ Reset runtime ใหม่)"
      ]
    },
    {
      "cell_type": "code",
      "metadata": {
        "id": "e2TGdTuJvYRH",
        "colab": {
          "base_uri": "https://localhost:8080/"
        },
        "outputId": "23e7bd61-693d-435d-871f-d8637d1fa243"
      },
      "source": [
        "!wget https://github.com/StrixzIV/Decision-Tree-Classifier/raw/main/music.csv"
      ],
      "execution_count": null,
      "outputs": [
        {
          "output_type": "stream",
          "name": "stdout",
          "text": [
            "--2021-10-13 04:44:44--  https://github.com/StrixzIV/Decision-Tree-Classifier/raw/main/music.csv\n",
            "Resolving github.com (github.com)... 140.82.121.4\n",
            "Connecting to github.com (github.com)|140.82.121.4|:443... connected.\n",
            "HTTP request sent, awaiting response... 302 Found\n",
            "Location: https://raw.githubusercontent.com/StrixzIV/Decision-Tree-Classifier/main/music.csv [following]\n",
            "--2021-10-13 04:44:44--  https://raw.githubusercontent.com/StrixzIV/Decision-Tree-Classifier/main/music.csv\n",
            "Resolving raw.githubusercontent.com (raw.githubusercontent.com)... 185.199.108.133, 185.199.109.133, 185.199.110.133, ...\n",
            "Connecting to raw.githubusercontent.com (raw.githubusercontent.com)|185.199.108.133|:443... connected.\n",
            "HTTP request sent, awaiting response... 200 OK\n",
            "Length: 247 [text/plain]\n",
            "Saving to: ‘music.csv’\n",
            "\n",
            "music.csv           100%[===================>]     247  --.-KB/s    in 0s      \n",
            "\n",
            "2021-10-13 04:44:45 (15.3 MB/s) - ‘music.csv’ saved [247/247]\n",
            "\n"
          ]
        }
      ]
    },
    {
      "cell_type": "markdown",
      "metadata": {
        "id": "ZtsheAuvvEmN"
      },
      "source": [
        "## Import ไลบารี่ที่ต้องใช้"
      ]
    },
    {
      "cell_type": "code",
      "metadata": {
        "id": "zPYnvv86uel1"
      },
      "source": [
        "import joblib\n",
        "import pandas as pd\n",
        "from sklearn import tree\n",
        "from sklearn.tree import DecisionTreeClassifier"
      ],
      "execution_count": null,
      "outputs": []
    },
    {
      "cell_type": "markdown",
      "metadata": {
        "id": "kDfwbmSmxTXC"
      },
      "source": [
        "## Load ไฟล์ CSV และกำหนด Feature และ Label"
      ]
    },
    {
      "cell_type": "code",
      "metadata": {
        "id": "VFTeYUMIxhMr",
        "colab": {
          "base_uri": "https://localhost:8080/",
          "height": 603
        },
        "outputId": "ac835312-daf2-456a-f5de-e243fbe9798b"
      },
      "source": [
        "music_data = pd.read_csv('music.csv')\n",
        "\n",
        "# กำหนด Feature(ข้อมูลลักษณะของแต่ละ Label)\n",
        "x = music_data.drop(columns = ['genre'])\n",
        "\n",
        "# กำหนด Label(กำหนดลักษณะของผลลัพธ์จากข้อมูล Feature)\n",
        "y = music_data['genre']\n",
        "\n",
        "music_data"
      ],
      "execution_count": null,
      "outputs": [
        {
          "output_type": "execute_result",
          "data": {
            "text/html": [
              "<div>\n",
              "<style scoped>\n",
              "    .dataframe tbody tr th:only-of-type {\n",
              "        vertical-align: middle;\n",
              "    }\n",
              "\n",
              "    .dataframe tbody tr th {\n",
              "        vertical-align: top;\n",
              "    }\n",
              "\n",
              "    .dataframe thead th {\n",
              "        text-align: right;\n",
              "    }\n",
              "</style>\n",
              "<table border=\"1\" class=\"dataframe\">\n",
              "  <thead>\n",
              "    <tr style=\"text-align: right;\">\n",
              "      <th></th>\n",
              "      <th>age</th>\n",
              "      <th>gender</th>\n",
              "      <th>genre</th>\n",
              "    </tr>\n",
              "  </thead>\n",
              "  <tbody>\n",
              "    <tr>\n",
              "      <th>0</th>\n",
              "      <td>20</td>\n",
              "      <td>1</td>\n",
              "      <td>HipHop</td>\n",
              "    </tr>\n",
              "    <tr>\n",
              "      <th>1</th>\n",
              "      <td>23</td>\n",
              "      <td>1</td>\n",
              "      <td>HipHop</td>\n",
              "    </tr>\n",
              "    <tr>\n",
              "      <th>2</th>\n",
              "      <td>25</td>\n",
              "      <td>1</td>\n",
              "      <td>HipHop</td>\n",
              "    </tr>\n",
              "    <tr>\n",
              "      <th>3</th>\n",
              "      <td>26</td>\n",
              "      <td>1</td>\n",
              "      <td>Jazz</td>\n",
              "    </tr>\n",
              "    <tr>\n",
              "      <th>4</th>\n",
              "      <td>29</td>\n",
              "      <td>1</td>\n",
              "      <td>Jazz</td>\n",
              "    </tr>\n",
              "    <tr>\n",
              "      <th>5</th>\n",
              "      <td>30</td>\n",
              "      <td>1</td>\n",
              "      <td>Jazz</td>\n",
              "    </tr>\n",
              "    <tr>\n",
              "      <th>6</th>\n",
              "      <td>31</td>\n",
              "      <td>1</td>\n",
              "      <td>Classical</td>\n",
              "    </tr>\n",
              "    <tr>\n",
              "      <th>7</th>\n",
              "      <td>33</td>\n",
              "      <td>1</td>\n",
              "      <td>Classical</td>\n",
              "    </tr>\n",
              "    <tr>\n",
              "      <th>8</th>\n",
              "      <td>37</td>\n",
              "      <td>1</td>\n",
              "      <td>Classical</td>\n",
              "    </tr>\n",
              "    <tr>\n",
              "      <th>9</th>\n",
              "      <td>20</td>\n",
              "      <td>0</td>\n",
              "      <td>Dance</td>\n",
              "    </tr>\n",
              "    <tr>\n",
              "      <th>10</th>\n",
              "      <td>21</td>\n",
              "      <td>0</td>\n",
              "      <td>Dance</td>\n",
              "    </tr>\n",
              "    <tr>\n",
              "      <th>11</th>\n",
              "      <td>25</td>\n",
              "      <td>0</td>\n",
              "      <td>Dance</td>\n",
              "    </tr>\n",
              "    <tr>\n",
              "      <th>12</th>\n",
              "      <td>26</td>\n",
              "      <td>0</td>\n",
              "      <td>Acoustic</td>\n",
              "    </tr>\n",
              "    <tr>\n",
              "      <th>13</th>\n",
              "      <td>27</td>\n",
              "      <td>0</td>\n",
              "      <td>Acoustic</td>\n",
              "    </tr>\n",
              "    <tr>\n",
              "      <th>14</th>\n",
              "      <td>30</td>\n",
              "      <td>0</td>\n",
              "      <td>Acoustic</td>\n",
              "    </tr>\n",
              "    <tr>\n",
              "      <th>15</th>\n",
              "      <td>31</td>\n",
              "      <td>0</td>\n",
              "      <td>Classical</td>\n",
              "    </tr>\n",
              "    <tr>\n",
              "      <th>16</th>\n",
              "      <td>34</td>\n",
              "      <td>0</td>\n",
              "      <td>Classical</td>\n",
              "    </tr>\n",
              "    <tr>\n",
              "      <th>17</th>\n",
              "      <td>35</td>\n",
              "      <td>0</td>\n",
              "      <td>Classical</td>\n",
              "    </tr>\n",
              "  </tbody>\n",
              "</table>\n",
              "</div>"
            ],
            "text/plain": [
              "    age  gender      genre\n",
              "0    20       1     HipHop\n",
              "1    23       1     HipHop\n",
              "2    25       1     HipHop\n",
              "3    26       1       Jazz\n",
              "4    29       1       Jazz\n",
              "5    30       1       Jazz\n",
              "6    31       1  Classical\n",
              "7    33       1  Classical\n",
              "8    37       1  Classical\n",
              "9    20       0      Dance\n",
              "10   21       0      Dance\n",
              "11   25       0      Dance\n",
              "12   26       0   Acoustic\n",
              "13   27       0   Acoustic\n",
              "14   30       0   Acoustic\n",
              "15   31       0  Classical\n",
              "16   34       0  Classical\n",
              "17   35       0  Classical"
            ]
          },
          "metadata": {},
          "execution_count": 3
        }
      ]
    },
    {
      "cell_type": "markdown",
      "metadata": {
        "id": "ygO3VZYmy4pn"
      },
      "source": [
        "## Train model จากข้อมูล Feature และ Column ที่กำหนด"
      ]
    },
    {
      "cell_type": "code",
      "metadata": {
        "id": "Ld8t3ujbzEwW",
        "colab": {
          "base_uri": "https://localhost:8080/"
        },
        "outputId": "4c156a9f-f319-4ec6-d70e-a13e4a75011e"
      },
      "source": [
        "model = DecisionTreeClassifier()\n",
        "model.fit(x, y)"
      ],
      "execution_count": null,
      "outputs": [
        {
          "output_type": "execute_result",
          "data": {
            "text/plain": [
              "DecisionTreeClassifier(ccp_alpha=0.0, class_weight=None, criterion='gini',\n",
              "                       max_depth=None, max_features=None, max_leaf_nodes=None,\n",
              "                       min_impurity_decrease=0.0, min_impurity_split=None,\n",
              "                       min_samples_leaf=1, min_samples_split=2,\n",
              "                       min_weight_fraction_leaf=0.0, presort='deprecated',\n",
              "                       random_state=None, splitter='best')"
            ]
          },
          "metadata": {},
          "execution_count": 4
        }
      ]
    },
    {
      "cell_type": "markdown",
      "metadata": {
        "id": "DUDKsLCQzV25"
      },
      "source": [
        "## เซฟไฟล์ Model ที่ทำการ Train เสร็จแล้ว"
      ]
    },
    {
      "cell_type": "code",
      "metadata": {
        "id": "UzUHVbbnzefF",
        "colab": {
          "base_uri": "https://localhost:8080/"
        },
        "outputId": "af09231e-0596-45e0-ba0c-55c8b1a8ad57"
      },
      "source": [
        "filename = 'model'\n",
        "joblib.dump(model, f'{filename}.joblib')"
      ],
      "execution_count": null,
      "outputs": [
        {
          "output_type": "execute_result",
          "data": {
            "text/plain": [
              "['model.joblib']"
            ]
          },
          "metadata": {},
          "execution_count": 5
        }
      ]
    },
    {
      "cell_type": "markdown",
      "metadata": {
        "id": "2zvbgkI3z2oK"
      },
      "source": [
        "## โหลดไฟล์ Model ที่เซฟไว้"
      ]
    },
    {
      "cell_type": "code",
      "metadata": {
        "id": "kKAoPRVZ0A0l"
      },
      "source": [
        "model = joblib.load(f'{filename}.joblib')"
      ],
      "execution_count": null,
      "outputs": []
    },
    {
      "cell_type": "markdown",
      "metadata": {
        "id": "VKc2NoOe0KN6"
      },
      "source": [
        "## ใช้ข้อมูลที่ Train เก็บไว้ใน Model มาทำการทำนายผล"
      ]
    },
    {
      "cell_type": "code",
      "metadata": {
        "id": "ViRumMpf0XTS",
        "colab": {
          "base_uri": "https://localhost:8080/"
        },
        "outputId": "7c71f602-a33d-4be3-b106-f4780b57bf84"
      },
      "source": [
        "model.predict([[17, 1]])"
      ],
      "execution_count": null,
      "outputs": [
        {
          "output_type": "execute_result",
          "data": {
            "text/plain": [
              "array(['HipHop'], dtype=object)"
            ]
          },
          "metadata": {},
          "execution_count": 7
        }
      ]
    }
  ]
}